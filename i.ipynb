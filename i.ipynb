{
 "cells": [
  {
   "cell_type": "code",
   "execution_count": 1,
   "metadata": {},
   "outputs": [
    {
     "name": "stdout",
     "output_type": "stream",
     "text": [
      "2\n",
      "3\n",
      "5\n",
      "7\n",
      "11\n",
      "13\n",
      "17\n",
      "19\n",
      "23\n",
      "29\n",
      "31\n",
      "37\n",
      "41\n",
      "43\n",
      "47\n",
      "53\n",
      "59\n",
      "61\n",
      "67\n",
      "71\n",
      "73\n",
      "79\n",
      "83\n",
      "89\n",
      "97\n"
     ]
    }
   ],
   "source": [
    "# Program to print all prime numbers between 1 and 100\n",
    "\n",
    "for num in range(1, 101):  #iterate through each number from 1 to 100\n",
    "   if num > 1:  #ensure only positive numbers are processed\n",
    "       for i in range(2, num): #check if number is divisible by any number other than 1\n",
    "           if (num % i) == 0:  #if the condition is true then the number is not prime and stop further processing for this number\n",
    "               break\n",
    "       else:      #if the loop has run completely, that means the number is prime so print it out     \n",
    "           print(num)"
   ]
  }
 ],
 "metadata": {
  "kernelspec": {
   "display_name": "Python 3",
   "language": "python",
   "name": "python3"
  },
  "language_info": {
   "codemirror_mode": {
    "name": "ipython",
    "version": 3
   },
   "file_extension": ".py",
   "mimetype": "text/x-python",
   "name": "python",
   "nbconvert_exporter": "python",
   "pygments_lexer": "ipython3",
   "version": "3.10.9"
  },
  "orig_nbformat": 4,
  "vscode": {
   "interpreter": {
    "hash": "7f8e1cabd7b653692fb5f6e1d6405d3095bd8f5c15b8d33b32415c60c3aedcae"
   }
  }
 },
 "nbformat": 4,
 "nbformat_minor": 2
}
